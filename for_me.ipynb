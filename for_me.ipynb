{
 "cells": [
  {
   "cell_type": "code",
   "execution_count": 12,
   "metadata": {},
   "outputs": [
    {
     "name": "stdout",
     "output_type": "stream",
     "text": [
      "[0, 0, 0, 1]\n",
      "1\n"
     ]
    }
   ],
   "source": [
    "def solution(blocks):\n",
    "    array=[0] * len(blocks)\n",
    "    for index,num in enumerate(blocks):\n",
    "        if index>0 and num<blocks[index-1]:\n",
    "            array[index] =  array[index-1] +1\n",
    "        # if len(blocks)>index-1 and num<=blocks[index+1]:\n",
    "        #     array[index] =  array[index+1] +1\n",
    "    print(array)\n",
    "    return max(array)\n",
    "print(solution([2,6,8,5]))"
   ]
  }
 ],
 "metadata": {
  "interpreter": {
   "hash": "5f6c7bb591fe8f3149eee942924da901ac1f485237507dab4679f2b071c3a354"
  },
  "kernelspec": {
   "display_name": "Python 3.7.13 ('iml.env')",
   "language": "python",
   "name": "python3"
  },
  "language_info": {
   "codemirror_mode": {
    "name": "ipython",
    "version": 3
   },
   "file_extension": ".py",
   "mimetype": "text/x-python",
   "name": "python",
   "nbconvert_exporter": "python",
   "pygments_lexer": "ipython3",
   "version": "3.7.13"
  },
  "orig_nbformat": 4
 },
 "nbformat": 4,
 "nbformat_minor": 2
}
