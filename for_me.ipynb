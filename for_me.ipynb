{
 "cells": [
  {
   "cell_type": "code",
   "execution_count": 12,
   "metadata": {},
   "outputs": [
    {
     "name": "stdout",
     "output_type": "stream",
     "text": [
      "[0, 0, 0, 1]\n",
      "1\n"
     ]
    }
   ],
   "source": [
    "class ListNode(object):\n",
    "    def __init__(self, val=0, next=None):\n",
    "        self.val = val\n",
    "        self.next = next\n",
    "class Solution(object):\n",
    "    def removeElementes(Self,head,val):\n",
    "        if not head:\n",
    "            return head\n",
    "        remove = ListNode()\n",
    "        cur = remove\n",
    "        while head:\n",
    "            if head.val == val:\n",
    "                head = head.next\n",
    "            else:\n",
    "                cur.next = head\n",
    "                cur = cur.next\n",
    "                head = head.next\n",
    "        return remove.next\n",
    " \n"
   ]
  }
 ],
 "metadata": {
  "interpreter": {
   "hash": "5f6c7bb591fe8f3149eee942924da901ac1f485237507dab4679f2b071c3a354"
  },
  "kernelspec": {
   "display_name": "Python 3.7.13 ('iml.env')",
   "language": "python",
   "name": "python3"
  },
  "language_info": {
   "codemirror_mode": {
    "name": "ipython",
    "version": 3
   },
   "file_extension": ".py",
   "mimetype": "text/x-python",
   "name": "python",
   "nbconvert_exporter": "python",
   "pygments_lexer": "ipython3",
   "version": "3.7.13"
  },
  "orig_nbformat": 4
 },
 "nbformat": 4,
 "nbformat_minor": 2
}
